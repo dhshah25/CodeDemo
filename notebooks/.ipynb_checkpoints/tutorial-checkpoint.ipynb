{
 "cells": [
  {
   "cell_type": "markdown",
   "id": "d25bcfdb",
   "metadata": {},
   "source": [
    "# CIFAR-10 Deep Learning Project Tutorial\n",
    "\n",
    "This tutorial demonstrates how to apply software design principles in a deep learning project using the CIFAR-10 dataset. We will cover the following steps:\n",
    "\n",
    "- Data loading and preprocessing\n",
    "- Building a modular Convolutional Neural Network (CNN)\n",
    "- Training the model with experiment tracking using MLflow\n",
    "- Evaluating the model\n",
    "\n",
    "The project is organized with best practices in mind, making it easy to integrate Docker containerization and CI/CD pipelines later on."
   ]
  },
  {
   "cell_type": "code",
   "execution_count": 1,
   "id": "60593e81",
   "metadata": {},
   "outputs": [
    {
     "ename": "",
     "evalue": "",
     "output_type": "error",
     "traceback": [
      "\u001b[1;31mFailed to connect to the remote Jupyter Server 'http://localhost:8889/'. Verify the server is running and reachable. (Kernel not initialized in Session)."
     ]
    }
   ],
   "source": [
    "from src import data_loader, model, train, evaluate, utils\n",
    "import matplotlib.pyplot as plt\n",
    "\n",
    "utils.set_seed(40)\n",
    "\n",
    "x_train, y_train, x_test, y_test = data_loader.load_cifar10_data()\n",
    "print('Training data shape:', x_train.shape)\n",
    "print('Test data shape:', x_test.shape)"
   ]
  },
  {
   "cell_type": "markdown",
   "id": "b7f7e585",
   "metadata": {},
   "source": [
    "## Visualizing Some Sample Images\n",
    "\n",
    "Let's visualize a few samples from the training set to understand the data better."
   ]
  },
  {
   "cell_type": "code",
   "execution_count": null,
   "id": "7ae6169c",
   "metadata": {},
   "outputs": [],
   "source": [
    "import numpy as np\n",
    "\n",
    "plt.figure(figsize=(10, 10))\n",
    "for i in range(9):\n",
    "    plt.subplot(3, 3, i+1)\n",
    "    plt.imshow(x_train[i])\n",
    "    plt.title(f\"Label: {np.argmax(y_train[i])}\")\n",
    "    plt.axis('off')\n",
    "plt.show()"
   ]
  },
  {
   "cell_type": "markdown",
   "id": "3c766236",
   "metadata": {},
   "source": [
    "## Building the CNN Model\n",
    "\n",
    "Next, we create a simple Convolutional Neural Network using our modular design. The model is defined in `src/model.py` and can be easily inspected and modified."
   ]
  },
  {
   "cell_type": "code",
   "execution_count": null,
   "id": "deff6a4a",
   "metadata": {},
   "outputs": [],
   "source": [
    "# Create the CNN model and print its summary\n",
    "cnn_model = model.create_cnn_model()\n",
    "cnn_model.summary()"
   ]
  },
  {
   "cell_type": "markdown",
   "id": "11d28d95",
   "metadata": {},
   "source": [
    "## Training the Model with MLflow\n",
    "\n",
    "We now train the model. The training script in `src/train.py` uses MLflow to automatically log parameters, metrics, and the model artifact. This makes tracking experiments and reproducibility much easier."
   ]
  },
  {
   "cell_type": "code",
   "execution_count": null,
   "id": "0b0d5a61",
   "metadata": {},
   "outputs": [],
   "source": [
    "# Train the model (this will also log the experiment with MLflow)\n",
    "history = train.train()\n",
    "print('Training complete!')"
   ]
  },
  {
   "cell_type": "markdown",
   "id": "22b7dcf8",
   "metadata": {},
   "source": [
    "## Evaluating the Model\n",
    "\n",
    "After training, we evaluate the model using our evaluation script in `src/evaluate.py`. This cell will load the saved model and display performance metrics along with sample predictions."
   ]
  },
  {
   "cell_type": "code",
   "execution_count": null,
   "id": "c9253725",
   "metadata": {},
   "outputs": [],
   "source": [
    "# Evaluate the trained model and visualize predictions\n",
    "evaluate.evaluate()"
   ]
  },
  {
   "cell_type": "markdown",
   "id": "03fe8e73",
   "metadata": {},
   "source": [
    "## Next Steps and Integration\n",
    "\n",
    "This notebook demonstrates a complete workflow from data loading, model building, training, and evaluation using best practices for modularity and reproducibility. \n",
    "\n",
    "### What You Can Do Next:\n",
    "\n",
    "- **Containerization:** Use the provided `Dockerfile` to containerize this project for deployment.\n",
    "- **CI/CD:** Integrate the CI pipeline using the `.github/workflows/ci.yml` file to automate testing and deployment.\n",
    "- **Experiment Tracking:** Explore MLflow's UI to compare different runs and hyperparameters.\n",
    "- **Enhancements:** Modify the model architecture, experiment with different data preprocessing techniques, or add additional modules as needed.\n",
    "\n"
   ]
  }
 ],
 "metadata": {
  "kernelspec": {
   "display_name": "Python (CodeDemo)",
   "language": "python",
   "name": "codedemo"
  }
 },
 "nbformat": 4,
 "nbformat_minor": 5
}
